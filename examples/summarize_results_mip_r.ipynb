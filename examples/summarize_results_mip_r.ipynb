{
 "cells": [
  {
   "cell_type": "code",
   "execution_count": null,
   "metadata": {},
   "outputs": [],
   "source": [
    "from glob import glob\n",
    "import os\n",
    "import pandas as pd"
   ]
  },
  {
   "cell_type": "code",
   "execution_count": null,
   "metadata": {},
   "outputs": [],
   "source": [
    "def parse_name(df):\n",
    "    df[['n', 't', 'd', 'c', 'idx', 'r']] = df['name'].str.extract(r'cap100_n(\\d+)_t(\\d+)_(Lon|Sh)(Lr|Sm)_(\\d+)_(\\d+)\\.txt')\n",
    "    df['n'] = df['n'].astype(int)\n",
    "    df['t'] = df['t'].astype(int)\n",
    "    df['d'] = df['d'].map(lambda x: {'Lon': 'd_L', 'Sh': 'd_S'}[x])\n",
    "    df['c'] = df['c'].map(lambda x: {'Lr': 'c_H', 'Sm': 'c_L'}[x])\n",
    "    df['idx'] = df['idx'].astype(int)\n",
    "    df['r'] = df['r'].astype(int)\n",
    "    df['rat'] = (df['r'] / df['n']).map(lambda x: f'{x:.2f}')"
   ]
  },
  {
   "cell_type": "code",
   "execution_count": null,
   "metadata": {},
   "outputs": [],
   "source": [
    "models = {\n",
    "    'model1n_bpp_wy_heu_s': 'M1**',\n",
    "    'model1ts_bpp_wy_heu_s': 'M1**+(R0)',\n",
    "}"
   ]
  },
  {
   "cell_type": "code",
   "execution_count": null,
   "metadata": {},
   "outputs": [],
   "source": [
    "logs = []\n",
    "for file in glob('../logs/mip_r/*.log'):\n",
    "    log = pd.read_csv(file, sep='\\t')\n",
    "    log['model'] = os.path.basename(file)[:-4].split('_', 1)[1]\n",
    "    logs.append(log)\n",
    "\n",
    "df = pd.concat(logs)\n",
    "parse_name(df)\n",
    "df['dt_solve'] = df['dt_solve'].clip(0.0, 1800.0)"
   ]
  },
  {
   "cell_type": "markdown",
   "metadata": {},
   "source": [
    "# Table 4"
   ]
  },
  {
   "cell_type": "code",
   "execution_count": null,
   "metadata": {},
   "outputs": [],
   "source": [
    "pt = df.pivot_table(\n",
    "    index=['n'],\n",
    "    columns=['rat', 'model'],\n",
    "    values=['mrel.ObjVal'],\n",
    ").sort_index()\n",
    "pt.loc['Total'] = pt.mean(axis=0)\n",
    "pt.rename(columns=models).style.format('{:.1f}')"
   ]
  },
  {
   "cell_type": "markdown",
   "metadata": {},
   "source": [
    "# Tables 5 and 6"
   ]
  },
  {
   "cell_type": "code",
   "execution_count": null,
   "metadata": {},
   "outputs": [],
   "source": [
    "pt = df.pivot_table(\n",
    "    index=['n'],\n",
    "    columns=['rat', 'model'],\n",
    "    aggfunc={'dt_solve': 'mean', 'optimal': 'sum'}\n",
    ").sort_index().reorder_levels([1, 2, 0], axis='columns').sort_index(axis='columns')\n",
    "\n",
    "total = pt.mean(axis=0)\n",
    "total[1::2] = pt.sum(axis=0)[1::2]\n",
    "pt.loc['Total'] = total\n",
    "pt = pt.rename(columns=models)\n",
    "\n",
    "pt.style.format('{:.1f}', subset=pt.columns[::2]).format('({:.0f})', subset=pt.columns[1::2])"
   ]
  }
 ],
 "metadata": {
  "jupytext": {
   "text_representation": {
    "extension": ".py",
    "format_name": "percent",
    "format_version": "1.3",
    "jupytext_version": "1.9.1"
   }
  },
  "kernelspec": {
   "display_name": "tbpp_test",
   "language": "python",
   "name": "python3"
  },
  "language_info": {
   "codemirror_mode": {
    "name": "ipython",
    "version": 3
   },
   "file_extension": ".py",
   "mimetype": "text/x-python",
   "name": "python",
   "nbconvert_exporter": "python",
   "pygments_lexer": "ipython3",
   "version": "3.11.8"
  }
 },
 "nbformat": 4,
 "nbformat_minor": 4
}
