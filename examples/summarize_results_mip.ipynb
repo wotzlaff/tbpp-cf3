{
 "cells": [
  {
   "cell_type": "code",
   "execution_count": null,
   "metadata": {},
   "outputs": [],
   "source": [
    "from glob import glob\n",
    "import os\n",
    "import pandas as pd"
   ]
  },
  {
   "cell_type": "code",
   "execution_count": null,
   "metadata": {},
   "outputs": [],
   "source": [
    "def parse_name(df):\n",
    "    df[['n', 't', 'd', 'c', 'idx']] = df['name'].str.extract(r'cap100_n(\\d+)_t(\\d+)_(Lon|Sh)(Lr|Sm)_(\\d+)\\.txt')\n",
    "    df['n'] = df['n'].astype(int)\n",
    "    df['t'] = df['t'].astype(int)\n",
    "    df['d'] = df['d'].map(lambda x: {'Lon': 'd_L', 'Sh': 'd_S'}[x])\n",
    "    df['c'] = df['c'].map(lambda x: {'Lr': 'c_H', 'Sm': 'c_L'}[x])\n",
    "    df['idx'] = df['idx'].astype(int)"
   ]
  },
  {
   "cell_type": "code",
   "execution_count": null,
   "metadata": {},
   "outputs": [],
   "source": [
    "logs = []\n",
    "for file in glob('../logs/mip/*.log'):\n",
    "    log = pd.read_csv(file, sep='\\t')\n",
    "    log['model'] = os.path.basename(file)[:-4].split('_', 1)[1]\n",
    "    logs.append(log)\n",
    "\n",
    "df = pd.concat(logs)\n",
    "parse_name(df)\n",
    "df['dt_solve'] = df['dt_solve'].clip(0.0, 1800.0)"
   ]
  },
  {
   "cell_type": "markdown",
   "metadata": {},
   "source": [
    "# Table 1 (partially)"
   ]
  },
  {
   "cell_type": "code",
   "execution_count": null,
   "metadata": {},
   "outputs": [],
   "source": [
    "df.pivot_table(\n",
    "    index=['n', 't', 'd', 'c'],\n",
    "    columns=['model'],\n",
    "    values=['mrel.ObjVal'],\n",
    ").sort_index(ascending=(True, True, False, False)).swaplevel(axis='columns').sort_index(axis='columns')"
   ]
  },
  {
   "cell_type": "markdown",
   "metadata": {},
   "source": [
    "## Table 7"
   ]
  },
  {
   "cell_type": "code",
   "execution_count": null,
   "metadata": {},
   "outputs": [],
   "source": [
    "df.pivot_table(\n",
    "    index=['n', 't', 'd', 'c'],\n",
    "    columns=['model'],\n",
    "    aggfunc={'dt_solve': 'mean', 'optimal': 'sum'},\n",
    ").sort_index(ascending=(True, True, False, False)).swaplevel(axis='columns').sort_index(axis='columns')"
   ]
  }
 ],
 "metadata": {
  "jupytext": {
   "text_representation": {
    "extension": ".py",
    "format_name": "percent",
    "format_version": "1.3",
    "jupytext_version": "1.9.1"
   }
  },
  "kernelspec": {
   "display_name": "tbpp_test",
   "language": "python",
   "name": "python3"
  },
  "language_info": {
   "codemirror_mode": {
    "name": "ipython",
    "version": 3
   },
   "file_extension": ".py",
   "mimetype": "text/x-python",
   "name": "python",
   "nbconvert_exporter": "python",
   "pygments_lexer": "ipython3",
   "version": "3.11.8"
  }
 },
 "nbformat": 4,
 "nbformat_minor": 4
}
